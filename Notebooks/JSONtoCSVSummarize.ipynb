{
 "cells": [
  {
   "cell_type": "code",
   "execution_count": 1,
   "metadata": {},
   "outputs": [],
   "source": [
    "import pandas as pd\n",
    "from dotenv import load_dotenv\n",
    "import os\n",
    "import json\n",
    "load_dotenv()\n",
    "import openai\n",
    "import time"
   ]
  },
  {
   "cell_type": "markdown",
   "metadata": {},
   "source": [
    "Read JSON Files:"
   ]
  },
  {
   "cell_type": "code",
   "execution_count": 10,
   "metadata": {},
   "outputs": [],
   "source": [
    "for file in os.listdir('../CT_Database/CT_Recruiting/')[:10]:\n",
    "    json_data = json.load(open(f'../CT_Database/CT_Recruiting/{file}'))"
   ]
  },
  {
   "cell_type": "markdown",
   "metadata": {},
   "source": [
    "Summarize:"
   ]
  },
  {
   "cell_type": "code",
   "execution_count": 11,
   "metadata": {},
   "outputs": [
    {
     "data": {
      "text/plain": [
       "{'NCT Number': 'NCT05059444',\n",
       " 'Study Results': {},\n",
       " 'Interventions': {'ArmGroupList': {'ArmGroup': [{'ArmGroupLabel': 'Cohort 1: Muscle invasive carcinoma of the bladder, ureter, or renal pelvis (stage II-III)',\n",
       "     'ArmGroupInterventionList': {'ArmGroupInterventionName': ['Diagnostic Test: Guardant Reveal']}},\n",
       "    {'ArmGroupLabel': 'Cohort 2: Non-small cell lung cancer (stage II-III)',\n",
       "     'ArmGroupInterventionList': {'ArmGroupInterventionName': ['Diagnostic Test: Guardant Reveal']}},\n",
       "    {'ArmGroupLabel': 'Cohort 3: Invasive breast carcinoma with all of the following:',\n",
       "     'ArmGroupDescription': 'Clinical stage T1-4/N0-3/M0 at presentation AND\\nCompleted preoperative systemic chemotherapy-containing regimen AND\\nUnderwent definitive surgical resection of the primary tumor AND\\nHas pathological evidence of residual invasive carcinoma in the breast and/or axillary lymph nodes AND\\nHormone receptor and HER2 status are known',\n",
       "     'ArmGroupInterventionList': {'ArmGroupInterventionName': ['Diagnostic Test: Guardant Reveal']}},\n",
       "    {'ArmGroupLabel': 'Cohort 4: Stage IIb-III cutaneous melanoma or limited (resectable) stage IV melanoma',\n",
       "     'ArmGroupInterventionList': {'ArmGroupInterventionName': ['Diagnostic Test: Guardant Reveal']}},\n",
       "    {'ArmGroupLabel': 'Cohort 5: Esophageal or gastroesophageal junction carcinoma (stage II-III)',\n",
       "     'ArmGroupInterventionList': {'ArmGroupInterventionName': ['Diagnostic Test: Guardant Reveal']}},\n",
       "    {'ArmGroupLabel': 'Cohort 6: Gastric adenocarcinoma (stage II-III)',\n",
       "     'ArmGroupInterventionList': {'ArmGroupInterventionName': ['Diagnostic Test: Guardant Reveal']}},\n",
       "    {'ArmGroupLabel': 'Cohort 7: Surgically resected pancreatic adenocarcinoma',\n",
       "     'ArmGroupInterventionList': {'ArmGroupInterventionName': ['Diagnostic Test: Guardant Reveal']}},\n",
       "    {'ArmGroupLabel': 'Cohort 8: Invasive squamous cell carcinoma of the head and neck',\n",
       "     'ArmGroupDescription': 'Includes stage I-III oral cavity, oropharynx, hypopharynx, larynx, nasopharynx, nasal cavity, paranasal sinus, and salivary gland cancers.',\n",
       "     'ArmGroupInterventionList': {'ArmGroupInterventionName': ['Diagnostic Test: Guardant Reveal']}},\n",
       "    {'ArmGroupLabel': 'Cohort 9: High-risk epithelial ovarian or Fallopian tube carcinoma',\n",
       "     'ArmGroupDescription': 'Defined as stage IC-III or stage I that has high grade (grade 3-4) or clear cell histology).',\n",
       "     'ArmGroupInterventionList': {'ArmGroupInterventionName': ['Diagnostic Test: Guardant Reveal']}},\n",
       "    {'ArmGroupLabel': 'Cohort 10: High-risk endometrial carcinoma',\n",
       "     'ArmGroupDescription': 'Defined as having any of the following: serous or clear cell adenocarcinoma histology (any stage), grade 3 or 4 deeply invasive (T1b or greater) endometrioid carcinoma, stage III disease (any histology).',\n",
       "     'ArmGroupInterventionList': {'ArmGroupInterventionName': ['Diagnostic Test: Guardant Reveal']}},\n",
       "    {'ArmGroupLabel': 'Cohort 11: High-risk renal cell carcinoma',\n",
       "     'ArmGroupDescription': 'Defined as high grade (grade 3-4) stage II, stage III or limited (resectable) stage IV treated with curative intent.',\n",
       "     'ArmGroupInterventionList': {'ArmGroupInterventionName': ['Diagnostic Test: Guardant Reveal']}}]},\n",
       "  'InterventionList': {'Intervention': [{'InterventionType': 'Diagnostic Test',\n",
       "     'InterventionName': 'Guardant Reveal',\n",
       "     'InterventionDescription': 'Guardant Reveal is a minimal residual disease (MRD) panel for use in recurrence detection of early-stage solid tumors.',\n",
       "     'InterventionArmGroupLabelList': {'InterventionArmGroupLabel': ['Cohort 10: High-risk endometrial carcinoma',\n",
       "       'Cohort 11: High-risk renal cell carcinoma',\n",
       "       'Cohort 1: Muscle invasive carcinoma of the bladder, ureter, or renal pelvis (stage II-III)',\n",
       "       'Cohort 2: Non-small cell lung cancer (stage II-III)',\n",
       "       'Cohort 3: Invasive breast carcinoma with all of the following:',\n",
       "       'Cohort 4: Stage IIb-III cutaneous melanoma or limited (resectable) stage IV melanoma',\n",
       "       'Cohort 5: Esophageal or gastroesophageal junction carcinoma (stage II-III)',\n",
       "       'Cohort 6: Gastric adenocarcinoma (stage II-III)',\n",
       "       'Cohort 7: Surgically resected pancreatic adenocarcinoma',\n",
       "       'Cohort 8: Invasive squamous cell carcinoma of the head and neck',\n",
       "       'Cohort 9: High-risk epithelial ovarian or Fallopian tube carcinoma']}}]}},\n",
       " 'Primary Outcome Measures': {'PrimaryOutcome': [{'PrimaryOutcomeMeasure': 'Distant Recurrence Free Interval (D-RFi)',\n",
       "    'PrimaryOutcomeDescription': 'The primary endpoint, distant recurrence-free interval (D-RFi), will be evaluated for each of the primary study cohorts. D-RFi is defined as the time from the end of primary treatment until the time of diagnosis of a distant recurrence of the Index Cancer. Subjects without a distant recurrence will be censored at the time of last follow-up of their Index Cancer.',\n",
       "    'PrimaryOutcomeTimeFrame': '6 years'}]},\n",
       " 'Secondary Outcome Measures': {'SecondaryOutcome': [{'SecondaryOutcomeMeasure': 'Sensitivity',\n",
       "    'SecondaryOutcomeDescription': 'Sensitivity defined as the proportion of participants who develop distant recurrence who have ctDNA detected at or before the time of clinical detection of recurrence.',\n",
       "    'SecondaryOutcomeTimeFrame': '6 years'},\n",
       "   {'SecondaryOutcomeMeasure': 'Positive Predictive Value',\n",
       "    'SecondaryOutcomeDescription': 'Positive predictive value (PPV) defined as the proportion of participants who have ctDNA detected at the landmark or any surveillance timepoint who recur (either distally or locally).',\n",
       "    'SecondaryOutcomeTimeFrame': '6 years'},\n",
       "   {'SecondaryOutcomeMeasure': 'Lead Time',\n",
       "    'SecondaryOutcomeDescription': 'Lead time defined as the interval between ctDNA detection and clinical detection of recurrence.',\n",
       "    'SecondaryOutcomeTimeFrame': '6 years'}]},\n",
       " 'Other Outcome Measures': {'OtherOutcome': [{'OtherOutcomeMeasure': 'Recurrence-free interval (RFi)',\n",
       "    'OtherOutcomeDescription': 'Recurrence-free interval (RFi) defined as the time from the end of primary treatment until the appearance/occurrence of any recurrence (distant, regional, and/or local) of the Index Cancer. Subjects without recurrence will be censored at the time of last follow-up of their Index Cancer.',\n",
       "    'OtherOutcomeTimeFrame': '6 years'},\n",
       "   {'OtherOutcomeMeasure': 'Negative predictive value (NPV)',\n",
       "    'OtherOutcomeDescription': 'Negative predictive value (NPV) defined as the proportion of participants who have ctDNA not detected who have no evidence of recurrence.',\n",
       "    'OtherOutcomeTimeFrame': '6 years'},\n",
       "   {'OtherOutcomeMeasure': 'Association with resolution of indeterminate findings',\n",
       "    'OtherOutcomeDescription': 'The proportion of individuals whose indeterminate finding is ultimately confirmed to be disease recurrence who have ctDNA detected at the initial time the indeterminate finding is identified and\\nThe proportion of ctDNA not detected participants whose indeterminate findings is ultimately confirmed to be benign.',\n",
       "    'OtherOutcomeTimeFrame': '6 years'},\n",
       "   {'OtherOutcomeMeasure': 'Sensitivity for local recurrence',\n",
       "    'OtherOutcomeDescription': 'Sensitivity for local recurrence defined as the proportion of participants who have localized recurrence (e.g., in the absence of distant metastasis) who have ctDNA detected at or before the time of clinical detection of a localized recurrence; using landmark and serial timepoints.',\n",
       "    'OtherOutcomeTimeFrame': '6 years'},\n",
       "   {'OtherOutcomeMeasure': 'Index Cancer-Specific Survival (ICSS)',\n",
       "    'OtherOutcomeDescription': \"Index Cancer-Specific Survival (ICSS) defined as the time from the date of diagnosis until the date of death from the subject's Index Cancer. Subjects who are still alive at the end of the study observation period will be censored at the time of last known vital status.\",\n",
       "    'OtherOutcomeTimeFrame': '6 years'},\n",
       "   {'OtherOutcomeMeasure': 'Overall Survival (OS)',\n",
       "    'OtherOutcomeDescription': 'Overall Survival (OS) defined as the time from the date of diagnosis until the date of death from any cause. Subjects who are still alive at the end of the study observation period will be censored at the time of last known vital status.',\n",
       "    'OtherOutcomeTimeFrame': '6 years'},\n",
       "   {'OtherOutcomeMeasure': 'Rate of ctDNA clearance with adjuvant chemotherapy',\n",
       "    'OtherOutcomeDescription': 'Rate of ctDNA clearance with adjuvant chemotherapy defined as the proportion of patients who have ctDNA detected at the pre-enrollment timepoint whose ctDNA becomes undetectable at the Landmark timepoint.',\n",
       "    'OtherOutcomeTimeFrame': '6 years'}]},\n",
       " 'Locations': [{'Location Facility': 'Redwood City',\n",
       "   'Location City': 'Redwood City',\n",
       "   'Location State': 'California',\n",
       "   'Location Zip': '94063',\n",
       "   'Location Country': 'United States'}],\n",
       " 'Eligibility Criteria': 'Inclusion Criteria:\\n\\nAge > 18 years old AND\\nWere treated with curative intent AND\\nAre planning to undergo regular follow-up and monitoring for cancer recurrence per standard of care at the enrolling site AND\\nProvided written informed consent to participate in the study AND\\nAre willing to have de-identified clinical data shared with investigators at regular intervals as outlined in the study protocol and informed consent AND\\nAre willing to provide blood samples at enrollment and at subsequent clinical visits coinciding with standard of care follow-up, for up to 5 years as outlined in the study protocol and informed consent AND\\nHave at least one blood sample collected 4-12 weeks after completion of primary treatment of the Index Cancer\\nHave a histologically confirmed Index Cancer that qualifies for inclusion, defined as:\\n\\nPrimary Study Cohorts\\n\\nCohort 1: Muscle invasive carcinoma of the bladder, ureter, or renal pelvis (stage II-III),\\nCohort 2: Non-small cell lung cancer (stage II-III),\\nCohort 3: Invasive breast carcinoma with all of the following:\\n\\nClinical stage T1-4/N0-3/M0 at presentation AND Completed preoperative systemic chemotherapy-containing regimen AND Underwent definitive surgical resection of the primary tumor AND Has pathological evidence of residual invasive carcinoma in the breast and/or axillary lymph nodes AND Hormone receptor and HER2 status are known\\n\\nExploratory Cohorts\\n\\nCohort 4: Stage IIb-III cutaneous melanoma or limited (resectable) stage IV melanoma treated with curative intent,\\nCohort 5: Esophageal or gastroesophageal junction carcinoma (stage II-III),\\nCohort 6: Gastric adenocarcinoma (stage II-III),\\nCohort 7: Surgically resected pancreatic adenocarcinoma,\\nCohort 8: Invasive squamous cell carcinoma of the head and neck (includes stage I-III oral cavity, oropharynx, hypopharynx, larynx, nasopharynx, nasal cavity, paranasal sinus, and salivary gland cancers),\\nCohort 9: High-risk epithelial ovarian or Fallopian tube carcinoma (defined as stage IC-III or stage I that has high grade (grade 3-4) or clear cell histology),\\nCohort 10: High-risk endometrial carcinoma (defined as having any of the following: serous or clear cell adenocarcinoma histology (any stage), grade 3 or 4 deeply invasive (T1b or greater) endometrioid carcinoma, stage III disease (any histology)),\\nCohort 11: High-risk renal cell carcinoma (defined as high grade (grade 3-4) stage II, stage III or limited (resectable) stage IV treated with curative intent)\\n\\nExclusion Criteria:\\n\\nHistory of allogeneic organ or tissue transplant\\nIndex cancer has neuroendocrine histology\\nHistory of another primary cancer, with the exception of the following (if adequately treated and the patient is without evidence of disease at the time of enrollment): in situ cancers, non-melanoma skin carcinoma, localized low-risk prostate cancer (Gleason score < 6) with PSA in the normal range, and stage I papillary thyroid carcinoma.\\nKnown distant metastasis at time of enrollment (with the exception of participants with limited/resectable stage IV cutaneous melanoma or RCC)\\nIs participating in a clinical trial or another observational study that is evaluating the performance of another genomic test in the post-treatment surveillance setting at predicting/detecting recurrence'}"
      ]
     },
     "execution_count": 11,
     "metadata": {},
     "output_type": "execute_result"
    }
   ],
   "source": [
    "json_data"
   ]
  },
  {
   "cell_type": "markdown",
   "metadata": {},
   "source": [
    "Completetion Function:"
   ]
  },
  {
   "cell_type": "code",
   "execution_count": 12,
   "metadata": {},
   "outputs": [],
   "source": [
    "def summarizer(system_prompt, user_prompt, model='gpt-4-0125-preview', temperature=0, verbose=False):\n",
    "    response = openai.ChatCompletion.create(\n",
    "        model=model, \n",
    "        temperature=temperature,\n",
    "        messages=[\n",
    "            {\"role\":\"system\", \"content\":system_prompt},\n",
    "            {\"role\":\"user\", \"content\":str(user_prompt)},\n",
    "        ],\n",
    "        max_tokens = 1024,\n",
    "        response_format={ \"type\": \"json_object\" }\n",
    "        \n",
    "    )\n",
    "    res = response['choices'][0]['message']['content']\n",
    "    return res"
   ]
  },
  {
   "cell_type": "markdown",
   "metadata": {},
   "source": [
    "SYSTEM TEMPLATE --> Add or remove fields as required"
   ]
  },
  {
   "cell_type": "code",
   "execution_count": 13,
   "metadata": {},
   "outputs": [],
   "source": [
    "system_template = f'''Give summary of the given fields below in the specified format that is mentioned ahead of it:\n",
    "---BEGIN FORMAT TEMPLATE---\n",
    "{{\"NCT_NUMBER\":\"The NCT Number as it is\"\n",
    "\"ELIGIBILITY_CRITERIA\":\"Summarize the elgibility criteria preciesely\"\n",
    "\"PRIMARY_OUTCOMES\": \"Summarize primary outcomes into a single paragraph\",\n",
    "\"SECONDARY_OUTCOMES\": \"Summarize secondary outcomes into a single paragraph\"  \n",
    "\"INTERVENTIONS\": \"Summarize Interventions into a paragraph\"}}\n",
    "---END FORMAT TEMPLATE---\n",
    "Give the output of the format template in json format\n",
    "'''\n",
    "res = summarizer(system_prompt=system_template, user_prompt=json_data)"
   ]
  },
  {
   "cell_type": "code",
   "execution_count": 14,
   "metadata": {},
   "outputs": [
    {
     "data": {
      "text/plain": [
       "{'NCT_NUMBER': 'NCT05059444',\n",
       " 'ELIGIBILITY_CRITERIA': 'Participants must be over 18, treated with curative intent, willing to undergo regular follow-up, provide consent, and blood samples for up to 5 years. They must have a histologically confirmed Index Cancer that qualifies for inclusion, such as muscle invasive carcinoma of the bladder, non-small cell lung cancer, invasive breast carcinoma, among others, and meet specific criteria for each cohort. Exclusions include history of allogeneic organ or tissue transplant, neuroendocrine histology of the Index Cancer, history of certain primary cancers, known distant metastasis at enrollment, and participation in other genomic test studies.',\n",
       " 'PRIMARY_OUTCOMES': 'The primary outcome is the Distant Recurrence Free Interval (D-RFi), defined as the time from the end of primary treatment until the diagnosis of a distant recurrence of the Index Cancer. Subjects without a distant recurrence will be censored at the time of last follow-up of their Index Cancer, over a timeframe of 6 years.',\n",
       " 'SECONDARY_OUTCOMES': 'Secondary outcomes include sensitivity, positive predictive value (PPV), and lead time, all measured over 6 years. Sensitivity is the proportion of participants with detected ctDNA at or before clinical detection of recurrence. PPV is the proportion of participants with detected ctDNA who recur. Lead time is the interval between ctDNA detection and clinical detection of recurrence.',\n",
       " 'INTERVENTIONS': 'The intervention across all cohorts is the Diagnostic Test: Guardant Reveal, a minimal residual disease (MRD) panel for use in recurrence detection of early-stage solid tumors. This test is applied to various cohorts including those with muscle invasive carcinoma of the bladder, non-small cell lung cancer, invasive breast carcinoma, cutaneous melanoma, esophageal or gastroesophageal junction carcinoma, gastric adenocarcinoma, surgically resected pancreatic adenocarcinoma, invasive squamous cell carcinoma of the head and neck, high-risk epithelial ovarian or Fallopian tube carcinoma, high-risk endometrial carcinoma, and high-risk renal cell carcinoma.'}"
      ]
     },
     "execution_count": 14,
     "metadata": {},
     "output_type": "execute_result"
    }
   ],
   "source": [
    "json.loads(res)"
   ]
  },
  {
   "cell_type": "code",
   "execution_count": 15,
   "metadata": {},
   "outputs": [
    {
     "data": {
      "text/html": [
       "<div>\n",
       "<style scoped>\n",
       "    .dataframe tbody tr th:only-of-type {\n",
       "        vertical-align: middle;\n",
       "    }\n",
       "\n",
       "    .dataframe tbody tr th {\n",
       "        vertical-align: top;\n",
       "    }\n",
       "\n",
       "    .dataframe thead th {\n",
       "        text-align: right;\n",
       "    }\n",
       "</style>\n",
       "<table border=\"1\" class=\"dataframe\">\n",
       "  <thead>\n",
       "    <tr style=\"text-align: right;\">\n",
       "      <th></th>\n",
       "      <th>NCT_NUMBER</th>\n",
       "      <th>ELIGIBILITY_CRITERIA</th>\n",
       "      <th>PRIMARY_OUTCOMES</th>\n",
       "      <th>SECONDARY_OUTCOMES</th>\n",
       "      <th>INTERVENTIONS</th>\n",
       "    </tr>\n",
       "  </thead>\n",
       "  <tbody>\n",
       "    <tr>\n",
       "      <th>0</th>\n",
       "      <td>NCT05059444</td>\n",
       "      <td>Participants must be over 18, treated with cur...</td>\n",
       "      <td>The primary outcome is the Distant Recurrence ...</td>\n",
       "      <td>Secondary outcomes include sensitivity, positi...</td>\n",
       "      <td>The intervention across all cohorts is the Dia...</td>\n",
       "    </tr>\n",
       "  </tbody>\n",
       "</table>\n",
       "</div>"
      ],
      "text/plain": [
       "    NCT_NUMBER                               ELIGIBILITY_CRITERIA  \\\n",
       "0  NCT05059444  Participants must be over 18, treated with cur...   \n",
       "\n",
       "                                    PRIMARY_OUTCOMES  \\\n",
       "0  The primary outcome is the Distant Recurrence ...   \n",
       "\n",
       "                                  SECONDARY_OUTCOMES  \\\n",
       "0  Secondary outcomes include sensitivity, positi...   \n",
       "\n",
       "                                       INTERVENTIONS  \n",
       "0  The intervention across all cohorts is the Dia...  "
      ]
     },
     "execution_count": 15,
     "metadata": {},
     "output_type": "execute_result"
    }
   ],
   "source": [
    "pd.DataFrame.from_dict(json.loads(res), orient='index').T"
   ]
  },
  {
   "cell_type": "markdown",
   "metadata": {},
   "source": [
    "Summarised Attributes Function:"
   ]
  },
  {
   "cell_type": "markdown",
   "metadata": {},
   "source": [
    "USING GPT-3-TURBO:"
   ]
  },
  {
   "cell_type": "code",
   "execution_count": 16,
   "metadata": {},
   "outputs": [],
   "source": [
    "def generate_summarized_attrs(dir_path:str):\n",
    "    main_df =pd.DataFrame()\n",
    "    for file in os.listdir(dir_path)[:100]:\n",
    "        json_data = json.load(open(os.path.join(dir_path, file)))\n",
    "        res = summarizer(system_prompt=system_template, user_prompt=json_data)\n",
    "        dict_string = res.split('<START>')[1].split('<END>')[0].replace('\\n','')\n",
    "        json_data = json.loads(dict_string)\n",
    "        temp_df = pd.DataFrame.from_dict(json_data, orient='index').T\n",
    "        main_df = pd.concat([main_df, temp_df])\n",
    "    return main_df"
   ]
  },
  {
   "cell_type": "markdown",
   "metadata": {},
   "source": [
    "USING GPT-4-TURBO:"
   ]
  },
  {
   "cell_type": "code",
   "execution_count": 17,
   "metadata": {},
   "outputs": [],
   "source": [
    "def generate_summarized_attrs_json(dir_path:str):\n",
    "    main_df =pd.DataFrame()\n",
    "    for file in os.listdir(dir_path)[10:13]:\n",
    "        json_data = json.load(open(os.path.join(dir_path, file)))\n",
    "        res = summarizer(system_prompt=system_template, user_prompt=json_data)\n",
    "        json_obj = json.loads(res)\n",
    "        temp_df = pd.DataFrame.from_dict(json_obj, orient='index').T\n",
    "        main_df = pd.concat([main_df, temp_df])\n",
    "    return main_df"
   ]
  },
  {
   "cell_type": "markdown",
   "metadata": {},
   "source": [
    "With batching:"
   ]
  },
  {
   "cell_type": "code",
   "execution_count": 18,
   "metadata": {},
   "outputs": [],
   "source": [
    "def generate_summarized_attrs_json_batch(dir_path: str, batch_size: int = 100):\n",
    "    main_df = pd.DataFrame()\n",
    "    file_list = os.listdir(dir_path)\n",
    "    num_files = len(file_list)\n",
    "    \n",
    "    for i in range(0, num_files, batch_size):\n",
    "        batch_files = file_list[i:i+batch_size]\n",
    "        for file in batch_files:\n",
    "            print(f'Processing: {file}')\n",
    "            json_data = json.load(open(os.path.join(dir_path, file)))\n",
    "            res = summarizer(system_prompt=system_template, user_prompt=json_data)\n",
    "            json_obj = json.loads(res)\n",
    "            temp_df = pd.DataFrame.from_dict(json_obj, orient='index').T\n",
    "            main_df = pd.concat([main_df, temp_df])\n",
    "    \n",
    "    return main_df"
   ]
  },
  {
   "cell_type": "markdown",
   "metadata": {},
   "source": [
    "Concurrently:"
   ]
  },
  {
   "cell_type": "code",
   "execution_count": 19,
   "metadata": {},
   "outputs": [],
   "source": [
    "from concurrent.futures import ThreadPoolExecutor\n",
    "def generate_summarized_attrs_json_batch_threading(dir_path: str, batch_size: int = 100, unprocessed_ledger: list = []):\n",
    "    main_df = pd.DataFrame()\n",
    "    file_list = os.listdir(dir_path)\n",
    "    num_files = len(file_list)\n",
    "    \n",
    "    \n",
    "    def process_batch(batch_files):\n",
    "        files_processed = 0\n",
    "        temp_main = pd.DataFrame()\n",
    "        batch_df = pd.DataFrame()\n",
    "        for file in batch_files:\n",
    "            file_name = file.split('.')[0].strip() \n",
    "            if unprocessed_ledger: #only this added to only process files that have not been processed\n",
    "                files_processed += 1\n",
    "                print(f'Processing: {file} - {files_processed}')\n",
    "                json_data = json.load(open(os.path.join(dir_path, file)))\n",
    "                res = summarizer(system_prompt=system_template, user_prompt=json_data)\n",
    "                json_obj = json.loads(res)\n",
    "                temp_df = pd.DataFrame.from_dict(json_obj, orient='index').T\n",
    "                batch_df = pd.concat([batch_df, temp_df])\n",
    "            else:\n",
    "                print(f'----File {file_name} Processed----')\n",
    "            \n",
    "        batch_df.to_csv('../ct_csv/SummerizedCTAttrs_P2.csv', mode='a', index=False)\n",
    "        \n",
    "        return batch_df\n",
    "            \n",
    "\n",
    "    batches = [file_list[i:i+batch_size] for i in range(0, num_files, batch_size)]\n",
    "    \n",
    "    with ThreadPoolExecutor(max_workers=10) as executor:\n",
    "        batch_dfs = list(executor.map(process_batch, batches))\n",
    "        \n",
    "    \n",
    "    main_df = pd.concat(batch_dfs)\n",
    "    \n",
    "    return main_df"
   ]
  },
  {
   "cell_type": "markdown",
   "metadata": {},
   "source": [
    "Currently we are giving the entire json as the context to the study, hence it is taking more time:\n",
    "\n",
    "\n",
    "**Execution Time: 65.52171802520752**"
   ]
  },
  {
   "cell_type": "code",
   "execution_count": null,
   "metadata": {},
   "outputs": [],
   "source": [
    "start_time = time.time()\n",
    "data = generate_summarized_attrs_json_batch_threading('../CT_Database/CT_Recruiting/')\n",
    "end_time = time.time()\n",
    "execution_time = end_time - start_time\n",
    "print('Execution Time: {}'.format(execution_time))"
   ]
  },
  {
   "cell_type": "code",
   "execution_count": 39,
   "metadata": {},
   "outputs": [
    {
     "name": "stdout",
     "output_type": "stream",
     "text": [
      "NCT05107674\n",
      "NCT04882306\n",
      "NCT04057209\n",
      "NCT04339140\n",
      "NCT05049746\n",
      "NCT05458739\n",
      "NCT04080284\n",
      "NCT05585034\n",
      "NCT05715255\n",
      "NCT06073418\n",
      "NCT05496829\n",
      "NCT04595565\n",
      "NCT05300269\n",
      "NCT05301881\n",
      "NCT04245683\n",
      "NCT04967248\n",
      "NCT05590559\n",
      "NCT02918474\n",
      "NCT04938609\n",
      "NCT05406713\n",
      "NCT05494697\n",
      "NCT03412877\n",
      "NCT05219500\n",
      "NCT05181033\n",
      "NCT05692024\n",
      "NCT03144648\n",
      "NCT04660435\n",
      "NCT05055323\n",
      "NCT05491616\n",
      "NCT05518253\n",
      "NCT04501523\n",
      "NCT04921644\n",
      "NCT04088708\n",
      "NCT05992870\n",
      "NCT02155621\n",
      "NCT04761146\n",
      "NCT05305092\n",
      "NCT05645380\n",
      "NCT06128694\n",
      "NCT05780814\n",
      "NCT03872661\n",
      "NCT06085274\n",
      "NCT01927744\n",
      "NCT04669301\n",
      "NCT05535192\n",
      "NCT06234748\n",
      "NCT01210027\n",
      "NCT05848011\n",
      "NCT03987555\n",
      "NCT04298983\n",
      "NCT05582499\n",
      "NCT03759431\n",
      "NCT04402606\n",
      "NCT05065957\n",
      "NCT05753618\n",
      "NCT05713006\n",
      "NCT05596435\n",
      "NCT05919147\n",
      "NCT05309265\n",
      "NCT05215574\n",
      "NCT04657068\n",
      "NCT05335473\n",
      "NCT05959889\n",
      "NCT04982926\n",
      "NCT04929223\n",
      "NCT05969496\n",
      "NCT05296577\n",
      "NCT04276272\n",
      "NCT02201992\n",
      "NCT06059118\n",
      "NCT05396300\n",
      "NCT03955627\n",
      "NCT03750539\n",
      "NCT05226078\n",
      "NCT05841420\n",
      "NCT04144907\n",
      "NCT05797168\n",
      "NCT05013216\n",
      "NCT05982626\n",
      "NCT06051695\n",
      "NCT04829643\n",
      "NCT04480203\n",
      "NCT05306041\n",
      "NCT05766891\n",
      "NCT04258137\n",
      "NCT05358704\n",
      "NCT04679454\n",
      "NCT05728268\n",
      "NCT03990896\n",
      "NCT03769506\n",
      "NCT05377047\n",
      "NCT01639508\n",
      "NCT04280536\n",
      "NCT05169944\n",
      "NCT03937830\n",
      "NCT05280067\n",
      "NCT05914831\n",
      "NCT06039631\n",
      "NCT03143322\n",
      "NCT05383196\n"
     ]
    }
   ],
   "source": [
    "import pickle\n",
    "file_list = os.listdir('../CT_Database/CT_Recruiting/')\n",
    "unprocessed_ledger = pickle.load(open('../ct_csv/remaining_trials_nctnumbers.pkl', 'rb'))\n",
    "batches = [file_list[i:i+100] for i in range(0, len(file_list), 100)]\n",
    "files_processed = 0\n",
    "temp_main = pd.DataFrame()\n",
    "batch_df = pd.DataFrame()\n",
    "for file in batches[15]:\n",
    "    files_processed += 1\n",
    "    file_name = file.split('.')[0].strip() \n",
    "    if file_name in unprocessed_ledger:\n",
    "        print(file_name)\n",
    "    # print(f'Processing: {file} - {files_processed}')\n"
   ]
  },
  {
   "cell_type": "code",
   "execution_count": 261,
   "metadata": {},
   "outputs": [
    {
     "name": "stdout",
     "output_type": "stream",
     "text": [
      "Execution Time: 40.68126583099365\n"
     ]
    }
   ],
   "source": [
    "start_time = time.time()\n",
    "data_2 = generate_summarized_attrs_json('../CT_Database/CT_2/')\n",
    "end_time = time.time()\n",
    "execution_time = end_time - start_time\n",
    "print('Execution Time: {}'.format(execution_time))"
   ]
  },
  {
   "cell_type": "code",
   "execution_count": 232,
   "metadata": {},
   "outputs": [
    {
     "data": {
      "text/html": [
       "<div>\n",
       "<style scoped>\n",
       "    .dataframe tbody tr th:only-of-type {\n",
       "        vertical-align: middle;\n",
       "    }\n",
       "\n",
       "    .dataframe tbody tr th {\n",
       "        vertical-align: top;\n",
       "    }\n",
       "\n",
       "    .dataframe thead th {\n",
       "        text-align: right;\n",
       "    }\n",
       "</style>\n",
       "<table border=\"1\" class=\"dataframe\">\n",
       "  <thead>\n",
       "    <tr style=\"text-align: right;\">\n",
       "      <th></th>\n",
       "      <th>NCT_NUMBER</th>\n",
       "      <th>PRIMARY_OUTCOMES</th>\n",
       "      <th>SECONDARY_OUTCOMES</th>\n",
       "      <th>INTERVENTIONS</th>\n",
       "      <th>LOCATIONS</th>\n",
       "      <th>STUDY_RESULTS</th>\n",
       "    </tr>\n",
       "  </thead>\n",
       "  <tbody>\n",
       "    <tr>\n",
       "      <th>0</th>\n",
       "      <td>NCT05496101</td>\n",
       "      <td>The primary outcome of this study is to assess the margin status of wide local excision (WLE) specimens and cavity shavings, if any, using LightPath CLI + FAR imaging compared with final histopathology results. A positive margin on histopathology is defined as invasive carcinoma: positive if &lt;1mm; negative if ≥1mm, and for Ductal carcinoma in situ (DCIS), if present: positive if &lt;2mm; negative if ≥2mm. This assessment occurs during the complete surgical procedure.</td>\n",
       "      <td>Secondary outcomes include the agreement between the margin status of cavity shavings as determined by intraoperative CLI + FAR LightPath imaging and post-operative histopathology, and the re-operation rate within the study cohort compared to the general breast cancer population undergoing a WLE. These outcomes are evaluated during the complete surgical procedure.</td>\n",
       "      <td>The intervention in this study involves the use of the LightPath Imaging System, an in vitro diagnostic device with CE mark in Europe, for intraoperative Cerenkov luminescence imaging (CLI) plus flexible autoradiography (FAR) during breast-conserving surgery (BCS) for breast cancer. This is compared with standard-of-care histopathology. The imaging system uses 18F-FDG, a routinely used Positron Emission Tomography (PET)/Computed Tomography (CT) radiopharmaceutical.</td>\n",
       "      <td>Guy's and St Thomas NHS Trust, London, SE19RT, United Kingdom</td>\n",
       "      <td>As the study is currently recruiting and has not posted results, there is no summary of study results available at this time.</td>\n",
       "    </tr>\n",
       "    <tr>\n",
       "      <th>0</th>\n",
       "      <td>NCT05935384</td>\n",
       "      <td>The primary outcome of the study is to evaluate the sensitivity of circulating tumor DNA (ctDNA) in detecting disease progression across the primary study cohorts, which include patients with breast cancer, non-small cell lung cancer (NSCLC), or colorectal cancer (CRC). This evaluation is planned to be conducted over a period of 6 years.</td>\n",
       "      <td>Secondary outcomes of the study include assessing the RECIST v1.1 response, which measures tumor response to treatment through restaging scans and correlates changes in ctDNA quantities with clinical response. Progression-Free Survival (PFS), defined by the correlation of quantitative changes in ctDNA with participants' progression-free survival on each line of standard of care therapy, and the lead time between ctDNA detection or increase and clinical detection of disease progression, are also key secondary outcomes. These will be observed over a 6-year timeframe.</td>\n",
       "      <td>The intervention involves the diagnostic test Guardant360, a next-generation sequencing-based in vitro diagnostic device. It detects single nucleotide variants, insertions and deletions, copy number amplifications, and fusions in genes frequently mutated in cancer using circulating cell-free DNA obtained from the plasma of peripheral whole blood. Participants across various cohorts, including those with unresectable stage III/IV NSCLC, stage IV colorectal cancer, and unresectable stage III/IV breast cancer (HR+ HER2-, HR- HER2+, Triple Positive, Triple Negative), will have their blood samples collected and banked for this diagnostic test.</td>\n",
       "      <td>Orchard Healthcare Research Inc., Skokie, Illinois, 60077-1384, United States</td>\n",
       "      <td>As the study is currently recruiting and has not posted results, there is no summary available for the study results at this time.</td>\n",
       "    </tr>\n",
       "    <tr>\n",
       "      <th>0</th>\n",
       "      <td>NCT02034981</td>\n",
       "      <td>The primary outcome of this study is to assess the efficacy of crizotinib as a single agent in treating diverse types of tumors that have identified activating molecular alterations in crizotinib target genes. Efficacy will be measured by the objective response, defined as either a complete response (CR) or partial response (PR) according to Response Evaluation Criteria in Solid Tumors (RECIST) 1.1 criteria, after 2 cycles (8 weeks) of treatment.</td>\n",
       "      <td>Secondary outcomes include assessing the safety profile of crizotinib, disease control rate, response duration, progression-free survival, and overall survival. The safety profile will be evaluated throughout the treatment and a 2-year post-treatment follow-up period using the International Common Terminology Criteria for Adverse Events (CTCAE), version 4.0. Disease control rate, response duration, progression-free survival, and overall survival will be measured at specified intervals during and after treatment.</td>\n",
       "      <td>Participants in this study will receive oral crizotinib as monotherapy. The dosage is 250 mg twice daily for adults aged 18 years and above, 280 mg/m² twice daily for children and adolescents aged from 1 to 17 (except for ALCL patients), and 165 mg/m² twice daily for ALCL patients aged from 1 to 17. Treatment will continue daily continuously until progression or unacceptable toxicity develops.</td>\n",
       "      <td>Gustave Roussy, Villejuif, Ile De France, 94805, France</td>\n",
       "      <td>No study results are provided as the study is active, not recruiting, and has not posted any results.</td>\n",
       "    </tr>\n",
       "  </tbody>\n",
       "</table>\n",
       "</div>"
      ],
      "text/plain": [
       "    NCT_NUMBER  \\\n",
       "0  NCT05496101   \n",
       "0  NCT05935384   \n",
       "0  NCT02034981   \n",
       "\n",
       "                                                                                                                                                                                                                                                                                                                                                                                                                                                                       PRIMARY_OUTCOMES  \\\n",
       "0  The primary outcome of this study is to assess the margin status of wide local excision (WLE) specimens and cavity shavings, if any, using LightPath CLI + FAR imaging compared with final histopathology results. A positive margin on histopathology is defined as invasive carcinoma: positive if <1mm; negative if ≥1mm, and for Ductal carcinoma in situ (DCIS), if present: positive if <2mm; negative if ≥2mm. This assessment occurs during the complete surgical procedure.   \n",
       "0                                                                                                                                   The primary outcome of the study is to evaluate the sensitivity of circulating tumor DNA (ctDNA) in detecting disease progression across the primary study cohorts, which include patients with breast cancer, non-small cell lung cancer (NSCLC), or colorectal cancer (CRC). This evaluation is planned to be conducted over a period of 6 years.   \n",
       "0                    The primary outcome of this study is to assess the efficacy of crizotinib as a single agent in treating diverse types of tumors that have identified activating molecular alterations in crizotinib target genes. Efficacy will be measured by the objective response, defined as either a complete response (CR) or partial response (PR) according to Response Evaluation Criteria in Solid Tumors (RECIST) 1.1 criteria, after 2 cycles (8 weeks) of treatment.   \n",
       "\n",
       "                                                                                                                                                                                                                                                                                                                                                                                                                                                                                                                                                                            SECONDARY_OUTCOMES  \\\n",
       "0                                                                                                                                                                                                               Secondary outcomes include the agreement between the margin status of cavity shavings as determined by intraoperative CLI + FAR LightPath imaging and post-operative histopathology, and the re-operation rate within the study cohort compared to the general breast cancer population undergoing a WLE. These outcomes are evaluated during the complete surgical procedure.   \n",
       "0  Secondary outcomes of the study include assessing the RECIST v1.1 response, which measures tumor response to treatment through restaging scans and correlates changes in ctDNA quantities with clinical response. Progression-Free Survival (PFS), defined by the correlation of quantitative changes in ctDNA with participants' progression-free survival on each line of standard of care therapy, and the lead time between ctDNA detection or increase and clinical detection of disease progression, are also key secondary outcomes. These will be observed over a 6-year timeframe.   \n",
       "0                                                        Secondary outcomes include assessing the safety profile of crizotinib, disease control rate, response duration, progression-free survival, and overall survival. The safety profile will be evaluated throughout the treatment and a 2-year post-treatment follow-up period using the International Common Terminology Criteria for Adverse Events (CTCAE), version 4.0. Disease control rate, response duration, progression-free survival, and overall survival will be measured at specified intervals during and after treatment.   \n",
       "\n",
       "                                                                                                                                                                                                                                                                                                                                                                                                                                                                                                                                                                                                                                                            INTERVENTIONS  \\\n",
       "0                                                                                                                                                                                   The intervention in this study involves the use of the LightPath Imaging System, an in vitro diagnostic device with CE mark in Europe, for intraoperative Cerenkov luminescence imaging (CLI) plus flexible autoradiography (FAR) during breast-conserving surgery (BCS) for breast cancer. This is compared with standard-of-care histopathology. The imaging system uses 18F-FDG, a routinely used Positron Emission Tomography (PET)/Computed Tomography (CT) radiopharmaceutical.   \n",
       "0  The intervention involves the diagnostic test Guardant360, a next-generation sequencing-based in vitro diagnostic device. It detects single nucleotide variants, insertions and deletions, copy number amplifications, and fusions in genes frequently mutated in cancer using circulating cell-free DNA obtained from the plasma of peripheral whole blood. Participants across various cohorts, including those with unresectable stage III/IV NSCLC, stage IV colorectal cancer, and unresectable stage III/IV breast cancer (HR+ HER2-, HR- HER2+, Triple Positive, Triple Negative), will have their blood samples collected and banked for this diagnostic test.   \n",
       "0                                                                                                                                                                                                                                                            Participants in this study will receive oral crizotinib as monotherapy. The dosage is 250 mg twice daily for adults aged 18 years and above, 280 mg/m² twice daily for children and adolescents aged from 1 to 17 (except for ALCL patients), and 165 mg/m² twice daily for ALCL patients aged from 1 to 17. Treatment will continue daily continuously until progression or unacceptable toxicity develops.   \n",
       "\n",
       "                                                                       LOCATIONS  \\\n",
       "0                  Guy's and St Thomas NHS Trust, London, SE19RT, United Kingdom   \n",
       "0  Orchard Healthcare Research Inc., Skokie, Illinois, 60077-1384, United States   \n",
       "0                        Gustave Roussy, Villejuif, Ile De France, 94805, France   \n",
       "\n",
       "                                                                                                                        STUDY_RESULTS  \n",
       "0       As the study is currently recruiting and has not posted results, there is no summary of study results available at this time.  \n",
       "0  As the study is currently recruiting and has not posted results, there is no summary available for the study results at this time.  \n",
       "0                               No study results are provided as the study is active, not recruiting, and has not posted any results.  "
      ]
     },
     "execution_count": 232,
     "metadata": {},
     "output_type": "execute_result"
    }
   ],
   "source": [
    "pd.set_option('display.max_colwidth', None)\n",
    "data"
   ]
  },
  {
   "cell_type": "code",
   "execution_count": 238,
   "metadata": {},
   "outputs": [],
   "source": [
    "def get_memory_usage(df:pd.DataFrame):\n",
    "    memoryUsage = round(df.memory_usage(deep=True).sum()/(1024 * 1024), 2)\n",
    "    print('Memory usage: {} MB'.format(memoryUsage))\n",
    "    return memoryUsage"
   ]
  },
  {
   "cell_type": "code",
   "execution_count": 239,
   "metadata": {},
   "outputs": [
    {
     "name": "stdout",
     "output_type": "stream",
     "text": [
      "Memory usage: 0.01 MB\n"
     ]
    },
    {
     "data": {
      "text/plain": [
       "0.01"
      ]
     },
     "execution_count": 239,
     "metadata": {},
     "output_type": "execute_result"
    }
   ],
   "source": [
    "get_memory_usage(data)"
   ]
  },
  {
   "cell_type": "markdown",
   "metadata": {},
   "source": [
    "Checking Only Recruiting rows and the new folder have the same NCT numbers:"
   ]
  },
  {
   "cell_type": "code",
   "execution_count": 281,
   "metadata": {},
   "outputs": [],
   "source": [
    "temp_data = pd.read_csv('../ct_csv/CT_07_03_2024_ElgCriteriaOnly.csv')\n",
    "df_recruiting = temp_data[temp_data['Study Status'] == 'Recruiting']\n",
    "df_recruiting.to_csv('../ct_csv/CTRecruiting.csv') #save the df"
   ]
  },
  {
   "cell_type": "code",
   "execution_count": 270,
   "metadata": {},
   "outputs": [
    {
     "name": "stdout",
     "output_type": "stream",
     "text": [
      "Unique NCT number count - Recruiting: 3836\n"
     ]
    }
   ],
   "source": [
    "unique_nct_numbers_recruiting_count = len(df_recruiting['NCT Number'].unique())\n",
    "print('Unique NCT number count - Recruiting: {}'.format(unique_nct_numbers_recruiting_count))"
   ]
  },
  {
   "cell_type": "code",
   "execution_count": 271,
   "metadata": {},
   "outputs": [
    {
     "name": "stdout",
     "output_type": "stream",
     "text": [
      "Only Recruiting file count: 3836\n"
     ]
    }
   ],
   "source": [
    "new_folder_file_count_13_03 = len(os.listdir('../CT_Database/Clinical_Trials/'))\n",
    "print('Only Recruiting file count: {}'.format(new_folder_file_count_13_03))"
   ]
  },
  {
   "cell_type": "markdown",
   "metadata": {},
   "source": [
    "Get Locations:"
   ]
  },
  {
   "cell_type": "code",
   "execution_count": 34,
   "metadata": {},
   "outputs": [],
   "source": [
    "def get_location(system_prompt, user_prompt, model='gpt-4-0125-preview', temperature=0, verbose=False):\n",
    "    response = openai.chat.completions.create(\n",
    "        model=model, \n",
    "        temperature=temperature,\n",
    "        messages=[\n",
    "            {\"role\":\"system\", \"content\":system_prompt},\n",
    "            {\"role\":\"user\", \"content\":str(user_prompt)},\n",
    "        ],\n",
    "        max_tokens = 1024,\n",
    "        response_format={ \"type\": \"json_object\" }\n",
    "        \n",
    "    )\n",
    "    res = response.choices[0].message.content\n",
    "    return res"
   ]
  },
  {
   "cell_type": "code",
   "execution_count": 35,
   "metadata": {},
   "outputs": [],
   "source": [
    "system_template = f'''Give the names of any location such as city, state, country from the provided sentence in the specified format:\n",
    "---BEGIN FORMAT TEMPLATE---\n",
    "{{\"CITY\":\"city\"\n",
    "\"STATE\":\"state of the city\"\n",
    "\"COUNTRY\": \"the country the city and state belong to\"}}\n",
    "---END FORMAT TEMPLATE---\n",
    "Give the output of the format template in json format\n",
    "'''"
   ]
  },
  {
   "cell_type": "code",
   "execution_count": 36,
   "metadata": {},
   "outputs": [
    {
     "name": "stdout",
     "output_type": "stream",
     "text": [
      "{\"CITY\":\"Washington\",\n",
      "\"STATE\":\"Illinois\",\n",
      "\"COUNTRY\": \"United States\"}\n"
     ]
    },
    {
     "ename": "TypeError",
     "evalue": "'ChatCompletion' object is not subscriptable",
     "output_type": "error",
     "traceback": [
      "\u001b[0;31m---------------------------------------------------------------------------\u001b[0m",
      "\u001b[0;31mTypeError\u001b[0m                                 Traceback (most recent call last)",
      "Cell \u001b[0;32mIn[36], line 1\u001b[0m\n\u001b[0;32m----> 1\u001b[0m res_loc \u001b[38;5;241m=\u001b[39m \u001b[43mget_location\u001b[49m\u001b[43m(\u001b[49m\u001b[43msystem_prompt\u001b[49m\u001b[38;5;241;43m=\u001b[39;49m\u001b[43msystem_template\u001b[49m\u001b[43m,\u001b[49m\u001b[43m \u001b[49m\u001b[43muser_prompt\u001b[49m\u001b[38;5;241;43m=\u001b[39;49m\u001b[38;5;124;43m'\u001b[39;49m\u001b[38;5;124;43mGenerate a list of clinical trials for a patient with newly diagnosed stage IV NSCLC for first line treatment options in the washington illinois?\u001b[39;49m\u001b[38;5;124;43m'\u001b[39;49m\u001b[43m)\u001b[49m\n",
      "Cell \u001b[0;32mIn[34], line 14\u001b[0m, in \u001b[0;36mget_location\u001b[0;34m(system_prompt, user_prompt, model, temperature, verbose)\u001b[0m\n\u001b[1;32m      2\u001b[0m response \u001b[38;5;241m=\u001b[39m openai\u001b[38;5;241m.\u001b[39mchat\u001b[38;5;241m.\u001b[39mcompletions\u001b[38;5;241m.\u001b[39mcreate(\n\u001b[1;32m      3\u001b[0m     model\u001b[38;5;241m=\u001b[39mmodel, \n\u001b[1;32m      4\u001b[0m     temperature\u001b[38;5;241m=\u001b[39mtemperature,\n\u001b[0;32m   (...)\u001b[0m\n\u001b[1;32m     11\u001b[0m     \n\u001b[1;32m     12\u001b[0m )\n\u001b[1;32m     13\u001b[0m \u001b[38;5;28mprint\u001b[39m(response\u001b[38;5;241m.\u001b[39mchoices[\u001b[38;5;241m0\u001b[39m]\u001b[38;5;241m.\u001b[39mmessage\u001b[38;5;241m.\u001b[39mcontent)\n\u001b[0;32m---> 14\u001b[0m res \u001b[38;5;241m=\u001b[39m \u001b[43mresponse\u001b[49m\u001b[43m[\u001b[49m\u001b[38;5;124;43m'\u001b[39;49m\u001b[38;5;124;43mchoices\u001b[39;49m\u001b[38;5;124;43m'\u001b[39;49m\u001b[43m]\u001b[49m[\u001b[38;5;241m0\u001b[39m][\u001b[38;5;124m'\u001b[39m\u001b[38;5;124mmessage\u001b[39m\u001b[38;5;124m'\u001b[39m][\u001b[38;5;124m'\u001b[39m\u001b[38;5;124mcontent\u001b[39m\u001b[38;5;124m'\u001b[39m]\n\u001b[1;32m     15\u001b[0m \u001b[38;5;28;01mreturn\u001b[39;00m res\n",
      "\u001b[0;31mTypeError\u001b[0m: 'ChatCompletion' object is not subscriptable"
     ]
    }
   ],
   "source": [
    "res_loc = get_location(system_prompt=system_template, user_prompt='Generate a list of clinical trials for a patient with newly diagnosed stage IV NSCLC for first line treatment options in the washington illinois?')"
   ]
  },
  {
   "cell_type": "code",
   "execution_count": 53,
   "metadata": {},
   "outputs": [
    {
     "data": {
      "text/plain": [
       "'{\"CITY\":\"Washington\",\\n\"STATE\":\"Illinois\",\\n\"COUNTRY\": \"United States\"}'"
      ]
     },
     "execution_count": 53,
     "metadata": {},
     "output_type": "execute_result"
    }
   ],
   "source": [
    "res_loc"
   ]
  },
  {
   "cell_type": "code",
   "execution_count": null,
   "metadata": {},
   "outputs": [],
   "source": []
  }
 ],
 "metadata": {
  "kernelspec": {
   "display_name": "langchain",
   "language": "python",
   "name": "python3"
  },
  "language_info": {
   "codemirror_mode": {
    "name": "ipython",
    "version": 3
   },
   "file_extension": ".py",
   "mimetype": "text/x-python",
   "name": "python",
   "nbconvert_exporter": "python",
   "pygments_lexer": "ipython3",
   "version": "3.9.16"
  }
 },
 "nbformat": 4,
 "nbformat_minor": 2
}
