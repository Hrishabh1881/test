{
 "cells": [
  {
   "cell_type": "code",
   "execution_count": 1,
   "metadata": {},
   "outputs": [
    {
     "name": "stdout",
     "output_type": "stream",
     "text": [
      "Year: 2005, Similarity: 0.9, Ranking Score: 0.857\n",
      "Year: 2010, Similarity: 0.8, Ranking Score: 0.713\n",
      "Year: 2018, Similarity: 0.7, Ranking Score: 0.520\n",
      "Year: 2020, Similarity: 0.5, Ranking Score: 0.367\n"
     ]
    }
   ],
   "source": [
    "from datetime import datetime\n",
    "\n",
    "def normalize(value, min_value, max_value):\n",
    "    \"\"\"Normalize a value between a specified min and max range.\"\"\"\n",
    "    return (value - min_value) / (max_value - min_value)\n",
    "\n",
    "def calculate_ranking_score(similarity_score, year, current_year, earliest_year, w_similarity=0.6, w_year=0.4):\n",
    "    \"\"\"\n",
    "    Calculate the ranking score based on similarity score and year.\n",
    "\n",
    "    Parameters:\n",
    "    - similarity_score: float, similarity score ranging from 0 to 1.\n",
    "    - year: int, the year of the item.\n",
    "    - current_year: int, the current year.\n",
    "    - earliest_year: int, the earliest year in the dataset.\n",
    "    - w_similarity: float, weight for the similarity score.\n",
    "    - w_year: float, weight for the year.\n",
    "\n",
    "    Returns:\n",
    "    - ranking_score: float, the final ranking score.\n",
    "    \"\"\"\n",
    "    # Normalize the similarity score (assume it is already between 0 and 1)\n",
    "    S_normalized = similarity_score\n",
    "\n",
    "    # Normalize the year\n",
    "    Y_normalized = normalize(current_year - year, 0, current_year - earliest_year)\n",
    "\n",
    "    # Calculate the ranking score using the weighted sum of normalized values\n",
    "    ranking_score = w_similarity * S_normalized + w_year * Y_normalized\n",
    "\n",
    "    return ranking_score\n",
    "\n",
    "# Example usage\n",
    "current_year = datetime.now().year\n",
    "earliest_year = 2000\n",
    "\n",
    "# Sample data\n",
    "items = [\n",
    "    {'similarity_score': 0.8, 'year': 2010},\n",
    "    {'similarity_score': 0.9, 'year': 2005},\n",
    "    {'similarity_score': 0.7, 'year': 2018},\n",
    "    {'similarity_score': 0.5, 'year': 2020},\n",
    "]\n",
    "\n",
    "# Calculate ranking scores for each item\n",
    "for item in items:\n",
    "    ranking_score = calculate_ranking_score(\n",
    "        similarity_score=item['similarity_score'],\n",
    "        year=item['year'],\n",
    "        current_year=current_year,\n",
    "        earliest_year=earliest_year\n",
    "    )\n",
    "    item['ranking_score'] = ranking_score\n",
    "\n",
    "ranked_items = sorted(items, key=lambda x: x['ranking_score'], reverse=True)\n",
    "\n",
    "for item in ranked_items:\n",
    "    print(f\"Year: {item['year']}, Similarity: {item['similarity_score']}, Ranking Score: {item['ranking_score']:.3f}\")\n"
   ]
  },
  {
   "cell_type": "code",
   "execution_count": null,
   "metadata": {},
   "outputs": [],
   "source": []
  }
 ],
 "metadata": {
  "kernelspec": {
   "display_name": "langchain",
   "language": "python",
   "name": "python3"
  },
  "language_info": {
   "codemirror_mode": {
    "name": "ipython",
    "version": 3
   },
   "file_extension": ".py",
   "mimetype": "text/x-python",
   "name": "python",
   "nbconvert_exporter": "python",
   "pygments_lexer": "ipython3",
   "version": "3.9.16"
  }
 },
 "nbformat": 4,
 "nbformat_minor": 2
}
